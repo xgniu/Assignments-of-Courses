{
 "cells": [
  {
   "cell_type": "markdown",
   "metadata": {},
   "source": [
    "# Softmax exercise\n",
    "\n",
    "*Complete and hand in this completed worksheet (including its outputs and any supporting code outside of the worksheet) with your assignment submission. For more details see the [assignments page](http://vision.stanford.edu/teaching/cs231n/assignments.html) on the course website.*\n",
    "\n",
    "This exercise is analogous to the SVM exercise. You will:\n",
    "\n",
    "- implement a fully-vectorized **loss function** for the Softmax classifier\n",
    "- implement the fully-vectorized expression for its **analytic gradient**\n",
    "- **check your implementation** with numerical gradient\n",
    "- use a validation set to **tune the learning rate and regularization** strength\n",
    "- **optimize** the loss function with **SGD**\n",
    "- **visualize** the final learned weights\n"
   ]
  },
  {
   "cell_type": "code",
   "execution_count": 1,
   "metadata": {
    "collapsed": false
   },
   "outputs": [],
   "source": [
    "import random\n",
    "import numpy as np\n",
    "from cs231n.data_utils import load_CIFAR10\n",
    "import matplotlib.pyplot as plt\n",
    "\n",
    "from __future__ import print_function\n",
    "\n",
    "%matplotlib inline\n",
    "plt.rcParams['figure.figsize'] = (10.0, 8.0) # set default size of plots\n",
    "plt.rcParams['image.interpolation'] = 'nearest'\n",
    "plt.rcParams['image.cmap'] = 'gray'\n",
    "\n",
    "# for auto-reloading extenrnal modules\n",
    "# see http://stackoverflow.com/questions/1907993/autoreload-of-modules-in-ipython\n",
    "%load_ext autoreload\n",
    "%autoreload 2"
   ]
  },
  {
   "cell_type": "code",
   "execution_count": 2,
   "metadata": {
    "collapsed": false
   },
   "outputs": [
    {
     "name": "stdout",
     "output_type": "stream",
     "text": [
      "Train data shape:  (49000, 3073)\n",
      "Train labels shape:  (49000,)\n",
      "Validation data shape:  (1000, 3073)\n",
      "Validation labels shape:  (1000,)\n",
      "Test data shape:  (1000, 3073)\n",
      "Test labels shape:  (1000,)\n",
      "dev data shape:  (500, 3073)\n",
      "dev labels shape:  (500,)\n"
     ]
    }
   ],
   "source": [
    "def get_CIFAR10_data(num_training=49000, num_validation=1000, num_test=1000, num_dev=500):\n",
    "    \"\"\"\n",
    "    Load the CIFAR-10 dataset from disk and perform preprocessing to prepare\n",
    "    it for the linear classifier. These are the same steps as we used for the\n",
    "    SVM, but condensed to a single function.  \n",
    "    \"\"\"\n",
    "    # Load the raw CIFAR-10 data\n",
    "    cifar10_dir = 'cs231n/datasets/cifar-10-batches-py'\n",
    "    X_train, y_train, X_test, y_test = load_CIFAR10(cifar10_dir)\n",
    "    \n",
    "    # subsample the data\n",
    "    mask = list(range(num_training, num_training + num_validation))\n",
    "    X_val = X_train[mask]\n",
    "    y_val = y_train[mask]\n",
    "    mask = list(range(num_training))\n",
    "    X_train = X_train[mask]\n",
    "    y_train = y_train[mask]\n",
    "    mask = list(range(num_test))\n",
    "    X_test = X_test[mask]\n",
    "    y_test = y_test[mask]\n",
    "    mask = np.random.choice(num_training, num_dev, replace=False)\n",
    "    X_dev = X_train[mask]\n",
    "    y_dev = y_train[mask]\n",
    "    \n",
    "    # Preprocessing: reshape the image data into rows\n",
    "    X_train = np.reshape(X_train, (X_train.shape[0], -1))\n",
    "    X_val = np.reshape(X_val, (X_val.shape[0], -1))\n",
    "    X_test = np.reshape(X_test, (X_test.shape[0], -1))\n",
    "    X_dev = np.reshape(X_dev, (X_dev.shape[0], -1))\n",
    "    \n",
    "    # Normalize the data: subtract the mean image\n",
    "    mean_image = np.mean(X_train, axis = 0)\n",
    "    X_train -= mean_image\n",
    "    X_val -= mean_image\n",
    "    X_test -= mean_image\n",
    "    X_dev -= mean_image\n",
    "    \n",
    "    # add bias dimension and transform into columns\n",
    "    X_train = np.hstack([X_train, np.ones((X_train.shape[0], 1))])\n",
    "    X_val = np.hstack([X_val, np.ones((X_val.shape[0], 1))])\n",
    "    X_test = np.hstack([X_test, np.ones((X_test.shape[0], 1))])\n",
    "    X_dev = np.hstack([X_dev, np.ones((X_dev.shape[0], 1))])\n",
    "    \n",
    "    return X_train, y_train, X_val, y_val, X_test, y_test, X_dev, y_dev\n",
    "\n",
    "\n",
    "# Invoke the above function to get our data.\n",
    "X_train, y_train, X_val, y_val, X_test, y_test, X_dev, y_dev = get_CIFAR10_data()\n",
    "print('Train data shape: ', X_train.shape)\n",
    "print('Train labels shape: ', y_train.shape)\n",
    "print('Validation data shape: ', X_val.shape)\n",
    "print('Validation labels shape: ', y_val.shape)\n",
    "print('Test data shape: ', X_test.shape)\n",
    "print('Test labels shape: ', y_test.shape)\n",
    "print('dev data shape: ', X_dev.shape)\n",
    "print('dev labels shape: ', y_dev.shape)"
   ]
  },
  {
   "cell_type": "markdown",
   "metadata": {},
   "source": [
    "## Softmax Classifier\n",
    "\n",
    "Your code for this section will all be written inside **cs231n/classifiers/softmax.py**. \n"
   ]
  },
  {
   "cell_type": "code",
   "execution_count": 10,
   "metadata": {
    "collapsed": false
   },
   "outputs": [
    {
     "name": "stdout",
     "output_type": "stream",
     "text": [
      "loss: 2.448369\n",
      "sanity check: 2.302585\n"
     ]
    }
   ],
   "source": [
    "# First implement the naive softmax loss function with nested loops.\n",
    "# Open the file cs231n/classifiers/softmax.py and implement the\n",
    "# softmax_loss_naive function.\n",
    "\n",
    "from cs231n.classifiers.softmax import softmax_loss_naive\n",
    "import time\n",
    "\n",
    "# Generate a random softmax weight matrix and use it to compute the loss.\n",
    "W = np.random.randn(3073, 10) * 0.0001\n",
    "loss, grad = softmax_loss_naive(W, X_dev, y_dev, 0.0)\n",
    "\n",
    "# As a rough sanity check, our loss should be something close to -log(0.1).\n",
    "print('loss: %f' % loss)\n",
    "print('sanity check: %f' % (-np.log(0.1)))"
   ]
  },
  {
   "cell_type": "markdown",
   "metadata": {},
   "source": [
    "## Inline Question 1:\n",
    "Why do we expect our loss to be close to -log(0.1)? Explain briefly.**\n",
    "\n",
    "**Your answer:** *Fill this in*\n"
   ]
  },
  {
   "cell_type": "code",
   "execution_count": 11,
   "metadata": {
    "collapsed": false
   },
   "outputs": [
    {
     "name": "stdout",
     "output_type": "stream",
     "text": [
      "numerical: -5.631027 analytic: -5.631027, relative error: 1.293842e-08\n",
      "numerical: -5.464899 analytic: -5.464900, relative error: 8.431301e-09\n",
      "numerical: -2.085753 analytic: -2.085753, relative error: 6.539199e-09\n",
      "numerical: -4.505523 analytic: -4.505523, relative error: 4.186367e-09\n",
      "numerical: 0.325088 analytic: 0.325088, relative error: 9.060224e-08\n",
      "numerical: -0.853530 analytic: -0.853530, relative error: 1.229515e-07\n",
      "numerical: 1.203038 analytic: 1.203038, relative error: 1.323689e-08\n",
      "numerical: -1.071555 analytic: -1.071555, relative error: 6.123093e-09\n",
      "numerical: 2.194686 analytic: 2.194686, relative error: 2.233900e-08\n",
      "numerical: 3.807613 analytic: 3.807613, relative error: 3.931882e-10\n",
      "numerical: 0.955217 analytic: 0.955217, relative error: 6.507840e-08\n",
      "numerical: -1.056577 analytic: -1.056577, relative error: 4.028435e-08\n",
      "numerical: 1.455397 analytic: 1.455397, relative error: 3.079243e-08\n",
      "numerical: 1.441884 analytic: 1.441884, relative error: 6.120441e-08\n",
      "numerical: -0.596767 analytic: -0.596767, relative error: 6.077433e-08\n",
      "numerical: 1.249153 analytic: 1.249153, relative error: 1.582157e-08\n",
      "numerical: -0.550531 analytic: -0.550531, relative error: 3.469779e-11\n",
      "numerical: 0.775730 analytic: 0.775730, relative error: 2.440530e-08\n",
      "numerical: -2.343112 analytic: -2.343112, relative error: 1.258231e-09\n",
      "numerical: 1.646624 analytic: 1.646624, relative error: 1.998187e-08\n"
     ]
    }
   ],
   "source": [
    "# Complete the implementation of softmax_loss_naive and implement a (naive)\n",
    "# version of the gradient that uses nested loops.\n",
    "loss, grad = softmax_loss_naive(W, X_dev, y_dev, 0.0)\n",
    "\n",
    "# As we did for the SVM, use numeric gradient checking as a debugging tool.\n",
    "# The numeric gradient should be close to the analytic gradient.\n",
    "from cs231n.gradient_check import grad_check_sparse\n",
    "f = lambda w: softmax_loss_naive(w, X_dev, y_dev, 0.0)[0]\n",
    "grad_numerical = grad_check_sparse(f, W, grad, 10)\n",
    "\n",
    "# similar to SVM case, do another gradient check with regularization\n",
    "loss, grad = softmax_loss_naive(W, X_dev, y_dev, 5e1)\n",
    "f = lambda w: softmax_loss_naive(w, X_dev, y_dev, 5e1)[0]\n",
    "grad_numerical = grad_check_sparse(f, W, grad, 10)"
   ]
  },
  {
   "cell_type": "code",
   "execution_count": 13,
   "metadata": {
    "collapsed": false
   },
   "outputs": [
    {
     "name": "stdout",
     "output_type": "stream",
     "text": [
      "naive loss: 2.448369e+00 computed in 0.041529s\n",
      "vectorized loss: 2.448369e+00 computed in 0.004504s\n",
      "Loss difference: 0.000000\n",
      "Gradient difference: 0.000000\n"
     ]
    }
   ],
   "source": [
    "# Now that we have a naive implementation of the softmax loss function and its gradient,\n",
    "# implement a vectorized version in softmax_loss_vectorized.\n",
    "# The two versions should compute the same results, but the vectorized version should be\n",
    "# much faster.\n",
    "tic = time.time()\n",
    "loss_naive, grad_naive = softmax_loss_naive(W, X_dev, y_dev, 0.000005)\n",
    "toc = time.time()\n",
    "print('naive loss: %e computed in %fs' % (loss_naive, toc - tic))\n",
    "\n",
    "from cs231n.classifiers.softmax import softmax_loss_vectorized\n",
    "tic = time.time()\n",
    "loss_vectorized, grad_vectorized = softmax_loss_vectorized(W, X_dev, y_dev, 0.000005)\n",
    "toc = time.time()\n",
    "print('vectorized loss: %e computed in %fs' % (loss_vectorized, toc - tic))\n",
    "\n",
    "# As we did for the SVM, we use the Frobenius norm to compare the two versions\n",
    "# of the gradient.\n",
    "grad_difference = np.linalg.norm(grad_naive - grad_vectorized, ord='fro')\n",
    "print('Loss difference: %f' % np.abs(loss_naive - loss_vectorized))\n",
    "print('Gradient difference: %f' % grad_difference)"
   ]
  },
  {
   "cell_type": "code",
   "execution_count": 17,
   "metadata": {
    "collapsed": false
   },
   "outputs": [
    {
     "name": "stderr",
     "output_type": "stream",
     "text": [
      "C:\\Users\\alan\\Downloads\\cs231n\\assignment1\\cs231n\\classifiers\\softmax.py:65: RuntimeWarning: divide by zero encountered in log\n",
      "  #############################################################################\n",
      "C:\\Users\\alan\\Downloads\\cs231n\\assignment1\\cs231n\\classifiers\\softmax.py:69: RuntimeWarning: overflow encountered in double_scalars\n",
      "C:\\Users\\alan\\Downloads\\cs231n\\assignment1\\cs231n\\classifiers\\softmax.py:69: RuntimeWarning: overflow encountered in multiply\n",
      "C:\\Users\\alan\\Downloads\\cs231n\\assignment1\\cs231n\\classifiers\\softmax.py:72: RuntimeWarning: overflow encountered in multiply\n"
     ]
    },
    {
     "name": "stdout",
     "output_type": "stream",
     "text": [
      "lr 1.000000e-08 reg 1.000000e-04 train accuracy: 0.144408 val accuracy: 0.148000\n",
      "lr 1.000000e-08 reg 7.500000e-04 train accuracy: 0.159959 val accuracy: 0.164000\n",
      "lr 1.000000e-08 reg 1.000000e-03 train accuracy: 0.157551 val accuracy: 0.143000\n",
      "lr 1.000000e-08 reg 2.500000e+04 train accuracy: 0.162449 val accuracy: 0.161000\n",
      "lr 1.000000e-08 reg 5.000000e+04 train accuracy: 0.219306 val accuracy: 0.223000\n",
      "lr 5.000000e-08 reg 1.000000e-04 train accuracy: 0.226041 val accuracy: 0.206000\n",
      "lr 5.000000e-08 reg 7.500000e-04 train accuracy: 0.214449 val accuracy: 0.209000\n",
      "lr 5.000000e-08 reg 1.000000e-03 train accuracy: 0.216673 val accuracy: 0.228000\n",
      "lr 5.000000e-08 reg 2.500000e+04 train accuracy: 0.322000 val accuracy: 0.343000\n",
      "lr 5.000000e-08 reg 5.000000e+04 train accuracy: 0.306694 val accuracy: 0.326000\n",
      "lr 1.000000e-07 reg 1.000000e-04 train accuracy: 0.247959 val accuracy: 0.252000\n",
      "lr 1.000000e-07 reg 7.500000e-04 train accuracy: 0.243592 val accuracy: 0.224000\n",
      "lr 1.000000e-07 reg 1.000000e-03 train accuracy: 0.250204 val accuracy: 0.256000\n",
      "lr 1.000000e-07 reg 2.500000e+04 train accuracy: 0.328306 val accuracy: 0.343000\n",
      "lr 1.000000e-07 reg 5.000000e+04 train accuracy: 0.312612 val accuracy: 0.323000\n",
      "lr 5.000000e-07 reg 1.000000e-04 train accuracy: 0.321388 val accuracy: 0.319000\n",
      "lr 5.000000e-07 reg 7.500000e-04 train accuracy: 0.320429 val accuracy: 0.305000\n",
      "lr 5.000000e-07 reg 1.000000e-03 train accuracy: 0.319469 val accuracy: 0.337000\n",
      "lr 5.000000e-07 reg 2.500000e+04 train accuracy: 0.321694 val accuracy: 0.340000\n",
      "lr 5.000000e-07 reg 5.000000e+04 train accuracy: 0.307000 val accuracy: 0.316000\n",
      "lr 1.000000e-06 reg 1.000000e-04 train accuracy: 0.344388 val accuracy: 0.346000\n",
      "lr 1.000000e-06 reg 7.500000e-04 train accuracy: 0.349429 val accuracy: 0.339000\n",
      "lr 1.000000e-06 reg 1.000000e-03 train accuracy: 0.349306 val accuracy: 0.341000\n",
      "lr 1.000000e-06 reg 2.500000e+04 train accuracy: 0.335224 val accuracy: 0.332000\n",
      "lr 1.000000e-06 reg 5.000000e+04 train accuracy: 0.297367 val accuracy: 0.307000\n",
      "lr 5.000000e-06 reg 1.000000e-04 train accuracy: 0.378918 val accuracy: 0.367000\n",
      "lr 5.000000e-06 reg 7.500000e-04 train accuracy: 0.376265 val accuracy: 0.355000\n",
      "lr 5.000000e-06 reg 1.000000e-03 train accuracy: 0.388286 val accuracy: 0.390000\n",
      "lr 5.000000e-06 reg 2.500000e+04 train accuracy: 0.230735 val accuracy: 0.238000\n",
      "lr 5.000000e-06 reg 5.000000e+04 train accuracy: 0.138653 val accuracy: 0.147000\n",
      "lr 1.000000e-05 reg 1.000000e-04 train accuracy: 0.351796 val accuracy: 0.345000\n",
      "lr 1.000000e-05 reg 7.500000e-04 train accuracy: 0.305327 val accuracy: 0.283000\n",
      "lr 1.000000e-05 reg 1.000000e-03 train accuracy: 0.328245 val accuracy: 0.306000\n",
      "lr 1.000000e-05 reg 2.500000e+04 train accuracy: 0.112184 val accuracy: 0.109000\n",
      "lr 1.000000e-05 reg 5.000000e+04 train accuracy: 0.077490 val accuracy: 0.063000\n",
      "lr 5.000000e-05 reg 1.000000e-04 train accuracy: 0.274837 val accuracy: 0.258000\n",
      "lr 5.000000e-05 reg 7.500000e-04 train accuracy: 0.295245 val accuracy: 0.277000\n",
      "lr 5.000000e-05 reg 1.000000e-03 train accuracy: 0.249571 val accuracy: 0.246000\n",
      "lr 5.000000e-05 reg 2.500000e+04 train accuracy: 0.113531 val accuracy: 0.112000\n",
      "lr 5.000000e-05 reg 5.000000e+04 train accuracy: 0.100265 val accuracy: 0.087000\n",
      "best validation accuracy achieved during cross-validation: 0.390000\n"
     ]
    }
   ],
   "source": [
    "# Use the validation set to tune hyperparameters (regularization strength and\n",
    "# learning rate). You should experiment with different ranges for the learning\n",
    "# rates and regularization strengths; if you are careful you should be able to\n",
    "# get a classification accuracy of over 0.35 on the validation set.\n",
    "from cs231n.classifiers import Softmax\n",
    "learning_rates = [1e-8, 5e-8, 1e-7, 5e-7, 1e-6, 5e-6, 1e-5, 5e-5]\n",
    "regularization_strengths = [1e-4, 2.5e4, 5e4,7.5e-4, 1e-3]\n",
    "\n",
    "# results is dictionary mapping tuples of the form\n",
    "# (learning_rate, regularization_strength) to tuples of the form\n",
    "# (training_accuracy, validation_accuracy). The accuracy is simply the fraction\n",
    "# of data points that are correctly classified.\n",
    "results = {}\n",
    "best_val = -1   # The highest validation accuracy that we have seen so far.\n",
    "best_softmax = None # The LinearSVM object that achieved the highest validation rate.\n",
    "\n",
    "for lr in learning_rates:\n",
    "    for reg in regularization_strengths:\n",
    "        sm = Softmax()\n",
    "        loss_hist = sm.train(X_train, y_train, learning_rate=lr, reg=reg, num_iters=1500, verbose=False)\n",
    "        y_train_pred = sm.predict(X_train)\n",
    "        tr_acc = np.mean(y_train == y_train_pred)\n",
    "        #print('training accuracy: %f' % (tr_acc,))\n",
    "        y_val_pred = sm.predict(X_val)\n",
    "        val_acc = np.mean(y_val == y_val_pred)        \n",
    "        #print('validation accuracy: %f' % (val_acc,))\n",
    "        results[(lr,reg)] = (tr_acc, val_acc)\n",
    "        if val_acc>best_val:\n",
    "            best_val = val_acc\n",
    "            best_softmax = sm\n",
    "   \n",
    "# Print out results.\n",
    "for lr, reg in sorted(results):\n",
    "    train_accuracy, val_accuracy = results[(lr, reg)]\n",
    "    print('lr %e reg %e train accuracy: %f val accuracy: %f' % (\n",
    "                lr, reg, train_accuracy, val_accuracy))\n",
    "    \n",
    "print('best validation accuracy achieved during cross-validation: %f' % best_val)"
   ]
  },
  {
   "cell_type": "code",
   "execution_count": 18,
   "metadata": {
    "collapsed": false
   },
   "outputs": [
    {
     "name": "stdout",
     "output_type": "stream",
     "text": [
      "softmax on raw pixels final test set accuracy: 0.356000\n"
     ]
    }
   ],
   "source": [
    "# evaluate on test set\n",
    "# Evaluate the best softmax on test set\n",
    "y_test_pred = best_softmax.predict(X_test)\n",
    "test_accuracy = np.mean(y_test == y_test_pred)\n",
    "print('softmax on raw pixels final test set accuracy: %f' % (test_accuracy, ))"
   ]
  },
  {
   "cell_type": "code",
   "execution_count": 19,
   "metadata": {
    "collapsed": false
   },
   "outputs": [
    {
     "data": {
      "image/png": "[encoded data removed]",
      "text/plain": [
       "<matplotlib.figure.Figure at 0x150817655c0>"
      ]
     },
     "metadata": {},
     "output_type": "display_data"
    }
   ],
   "source": [
    "# Visualize the learned weights for each class\n",
    "w = best_softmax.W[:-1,:] # strip out the bias\n",
    "w = w.reshape(32, 32, 3, 10)\n",
    "\n",
    "w_min, w_max = np.min(w), np.max(w)\n",
    "\n",
    "classes = ['plane', 'car', 'bird', 'cat', 'deer', 'dog', 'frog', 'horse', 'ship', 'truck']\n",
    "for i in range(10):\n",
    "    plt.subplot(2, 5, i + 1)\n",
    "    \n",
    "    # Rescale the weights to be between 0 and 255\n",
    "    wimg = 255.0 * (w[:, :, :, i].squeeze() - w_min) / (w_max - w_min)\n",
    "    plt.imshow(wimg.astype('uint8'))\n",
    "    plt.axis('off')\n",
    "    plt.title(classes[i])"
   ]
  },
  {
   "cell_type": "code",
   "execution_count": null,
   "metadata": {
    "collapsed": true
   },
   "outputs": [],
   "source": []
  }
 ],
 "metadata": {
  "kernelspec": {
   "display_name": "Python [Root]",
   "language": "python",
   "name": "Python [Root]"
  },
  "language_info": {
   "codemirror_mode": {
    "name": "ipython",
    "version": 3
   },
   "file_extension": ".py",
   "mimetype": "text/x-python",
   "name": "python",
   "nbconvert_exporter": "python",
   "pygments_lexer": "ipython3",
   "version": "3.5.2"
  }
 },
 "nbformat": 4,
 "nbformat_minor": 0
}
